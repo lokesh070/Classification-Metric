{
 "cells": [
  {
   "cell_type": "code",
   "execution_count": 1,
   "id": "1f319236",
   "metadata": {},
   "outputs": [],
   "source": [
    "import numpy as np \n",
    "import pandas as pd\n",
    "import matplotlib.pyplot as plt \n",
    "import seaborn as sns"
   ]
  },
  {
   "cell_type": "code",
   "execution_count": 56,
   "id": "4af1e344",
   "metadata": {},
   "outputs": [],
   "source": [
    "import sklearn \n",
    "from sklearn.linear_model import LogisticRegression\n",
    "from sklearn.model_selection import train_test_split \n",
    "from sklearn.metrics import confusion_matrix, precision_score, recall_score, accuracy_score, f1_score, roc_curve\n",
    "\n",
    "from sklearn.preprocessing import binarize "
   ]
  },
  {
   "cell_type": "code",
   "execution_count": 6,
   "id": "7f99c965",
   "metadata": {},
   "outputs": [],
   "source": [
    "pima = pd.read_csv(\"C:\\\\Users\\\\cheta\\\\Downloads\\\\pima-indians-diabetes (1).csv\")"
   ]
  },
  {
   "cell_type": "code",
   "execution_count": 7,
   "id": "0e03c80c",
   "metadata": {},
   "outputs": [
    {
     "data": {
      "text/html": [
       "<div>\n",
       "<style scoped>\n",
       "    .dataframe tbody tr th:only-of-type {\n",
       "        vertical-align: middle;\n",
       "    }\n",
       "\n",
       "    .dataframe tbody tr th {\n",
       "        vertical-align: top;\n",
       "    }\n",
       "\n",
       "    .dataframe thead th {\n",
       "        text-align: right;\n",
       "    }\n",
       "</style>\n",
       "<table border=\"1\" class=\"dataframe\">\n",
       "  <thead>\n",
       "    <tr style=\"text-align: right;\">\n",
       "      <th></th>\n",
       "      <th>Preg</th>\n",
       "      <th>Plas</th>\n",
       "      <th>Pres</th>\n",
       "      <th>skin</th>\n",
       "      <th>test</th>\n",
       "      <th>mass</th>\n",
       "      <th>pedi</th>\n",
       "      <th>age</th>\n",
       "      <th>class</th>\n",
       "    </tr>\n",
       "  </thead>\n",
       "  <tbody>\n",
       "    <tr>\n",
       "      <th>0</th>\n",
       "      <td>6</td>\n",
       "      <td>148</td>\n",
       "      <td>72</td>\n",
       "      <td>35</td>\n",
       "      <td>0</td>\n",
       "      <td>33.6</td>\n",
       "      <td>0.627</td>\n",
       "      <td>50</td>\n",
       "      <td>1</td>\n",
       "    </tr>\n",
       "    <tr>\n",
       "      <th>1</th>\n",
       "      <td>1</td>\n",
       "      <td>85</td>\n",
       "      <td>66</td>\n",
       "      <td>29</td>\n",
       "      <td>0</td>\n",
       "      <td>26.6</td>\n",
       "      <td>0.351</td>\n",
       "      <td>31</td>\n",
       "      <td>0</td>\n",
       "    </tr>\n",
       "    <tr>\n",
       "      <th>2</th>\n",
       "      <td>8</td>\n",
       "      <td>183</td>\n",
       "      <td>64</td>\n",
       "      <td>0</td>\n",
       "      <td>0</td>\n",
       "      <td>23.3</td>\n",
       "      <td>0.672</td>\n",
       "      <td>32</td>\n",
       "      <td>1</td>\n",
       "    </tr>\n",
       "    <tr>\n",
       "      <th>3</th>\n",
       "      <td>1</td>\n",
       "      <td>89</td>\n",
       "      <td>66</td>\n",
       "      <td>23</td>\n",
       "      <td>94</td>\n",
       "      <td>28.1</td>\n",
       "      <td>0.167</td>\n",
       "      <td>21</td>\n",
       "      <td>0</td>\n",
       "    </tr>\n",
       "    <tr>\n",
       "      <th>4</th>\n",
       "      <td>0</td>\n",
       "      <td>137</td>\n",
       "      <td>40</td>\n",
       "      <td>35</td>\n",
       "      <td>168</td>\n",
       "      <td>43.1</td>\n",
       "      <td>2.288</td>\n",
       "      <td>33</td>\n",
       "      <td>1</td>\n",
       "    </tr>\n",
       "  </tbody>\n",
       "</table>\n",
       "</div>"
      ],
      "text/plain": [
       "   Preg  Plas  Pres  skin  test  mass   pedi  age  class\n",
       "0     6   148    72    35     0  33.6  0.627   50      1\n",
       "1     1    85    66    29     0  26.6  0.351   31      0\n",
       "2     8   183    64     0     0  23.3  0.672   32      1\n",
       "3     1    89    66    23    94  28.1  0.167   21      0\n",
       "4     0   137    40    35   168  43.1  2.288   33      1"
      ]
     },
     "execution_count": 7,
     "metadata": {},
     "output_type": "execute_result"
    }
   ],
   "source": [
    "pima.head()"
   ]
  },
  {
   "cell_type": "code",
   "execution_count": 9,
   "id": "919a844a",
   "metadata": {},
   "outputs": [],
   "source": [
    "column_names = ['pregnent','glucose','bp','skin','insulin','bmi','pedigree','age','label']\n",
    "pima.columns = column_names"
   ]
  },
  {
   "cell_type": "code",
   "execution_count": 10,
   "id": "a53b6d01",
   "metadata": {},
   "outputs": [
    {
     "data": {
      "text/html": [
       "<div>\n",
       "<style scoped>\n",
       "    .dataframe tbody tr th:only-of-type {\n",
       "        vertical-align: middle;\n",
       "    }\n",
       "\n",
       "    .dataframe tbody tr th {\n",
       "        vertical-align: top;\n",
       "    }\n",
       "\n",
       "    .dataframe thead th {\n",
       "        text-align: right;\n",
       "    }\n",
       "</style>\n",
       "<table border=\"1\" class=\"dataframe\">\n",
       "  <thead>\n",
       "    <tr style=\"text-align: right;\">\n",
       "      <th></th>\n",
       "      <th>pregnent</th>\n",
       "      <th>glucose</th>\n",
       "      <th>bp</th>\n",
       "      <th>skin</th>\n",
       "      <th>insulin</th>\n",
       "      <th>bmi</th>\n",
       "      <th>pedigree</th>\n",
       "      <th>age</th>\n",
       "      <th>label</th>\n",
       "    </tr>\n",
       "  </thead>\n",
       "  <tbody>\n",
       "    <tr>\n",
       "      <th>0</th>\n",
       "      <td>6</td>\n",
       "      <td>148</td>\n",
       "      <td>72</td>\n",
       "      <td>35</td>\n",
       "      <td>0</td>\n",
       "      <td>33.6</td>\n",
       "      <td>0.627</td>\n",
       "      <td>50</td>\n",
       "      <td>1</td>\n",
       "    </tr>\n",
       "    <tr>\n",
       "      <th>1</th>\n",
       "      <td>1</td>\n",
       "      <td>85</td>\n",
       "      <td>66</td>\n",
       "      <td>29</td>\n",
       "      <td>0</td>\n",
       "      <td>26.6</td>\n",
       "      <td>0.351</td>\n",
       "      <td>31</td>\n",
       "      <td>0</td>\n",
       "    </tr>\n",
       "    <tr>\n",
       "      <th>2</th>\n",
       "      <td>8</td>\n",
       "      <td>183</td>\n",
       "      <td>64</td>\n",
       "      <td>0</td>\n",
       "      <td>0</td>\n",
       "      <td>23.3</td>\n",
       "      <td>0.672</td>\n",
       "      <td>32</td>\n",
       "      <td>1</td>\n",
       "    </tr>\n",
       "    <tr>\n",
       "      <th>3</th>\n",
       "      <td>1</td>\n",
       "      <td>89</td>\n",
       "      <td>66</td>\n",
       "      <td>23</td>\n",
       "      <td>94</td>\n",
       "      <td>28.1</td>\n",
       "      <td>0.167</td>\n",
       "      <td>21</td>\n",
       "      <td>0</td>\n",
       "    </tr>\n",
       "    <tr>\n",
       "      <th>4</th>\n",
       "      <td>0</td>\n",
       "      <td>137</td>\n",
       "      <td>40</td>\n",
       "      <td>35</td>\n",
       "      <td>168</td>\n",
       "      <td>43.1</td>\n",
       "      <td>2.288</td>\n",
       "      <td>33</td>\n",
       "      <td>1</td>\n",
       "    </tr>\n",
       "  </tbody>\n",
       "</table>\n",
       "</div>"
      ],
      "text/plain": [
       "   pregnent  glucose  bp  skin  insulin   bmi  pedigree  age  label\n",
       "0         6      148  72    35        0  33.6     0.627   50      1\n",
       "1         1       85  66    29        0  26.6     0.351   31      0\n",
       "2         8      183  64     0        0  23.3     0.672   32      1\n",
       "3         1       89  66    23       94  28.1     0.167   21      0\n",
       "4         0      137  40    35      168  43.1     2.288   33      1"
      ]
     },
     "execution_count": 10,
     "metadata": {},
     "output_type": "execute_result"
    }
   ],
   "source": [
    "pima.head()"
   ]
  },
  {
   "cell_type": "code",
   "execution_count": 11,
   "id": "b47baff1",
   "metadata": {},
   "outputs": [],
   "source": [
    "feature_cols = ['pregnent','glucose','bp','skin','insulin','bmi','age']\n",
    "X = pima[feature_cols]\n",
    "y = pima['label']"
   ]
  },
  {
   "cell_type": "code",
   "execution_count": 12,
   "id": "882c3162",
   "metadata": {},
   "outputs": [],
   "source": [
    "X_train, x_test, y_train, y_test = train_test_split(X,y,test_size=0.2,random_state=1)"
   ]
  },
  {
   "cell_type": "code",
   "execution_count": 13,
   "id": "b18ec423",
   "metadata": {},
   "outputs": [
    {
     "data": {
      "text/html": [
       "<div>\n",
       "<style scoped>\n",
       "    .dataframe tbody tr th:only-of-type {\n",
       "        vertical-align: middle;\n",
       "    }\n",
       "\n",
       "    .dataframe tbody tr th {\n",
       "        vertical-align: top;\n",
       "    }\n",
       "\n",
       "    .dataframe thead th {\n",
       "        text-align: right;\n",
       "    }\n",
       "</style>\n",
       "<table border=\"1\" class=\"dataframe\">\n",
       "  <thead>\n",
       "    <tr style=\"text-align: right;\">\n",
       "      <th></th>\n",
       "      <th>pregnent</th>\n",
       "      <th>glucose</th>\n",
       "      <th>bp</th>\n",
       "      <th>skin</th>\n",
       "      <th>insulin</th>\n",
       "      <th>bmi</th>\n",
       "      <th>age</th>\n",
       "    </tr>\n",
       "  </thead>\n",
       "  <tbody>\n",
       "    <tr>\n",
       "      <th>663</th>\n",
       "      <td>9</td>\n",
       "      <td>145</td>\n",
       "      <td>80</td>\n",
       "      <td>46</td>\n",
       "      <td>130</td>\n",
       "      <td>37.9</td>\n",
       "      <td>40</td>\n",
       "    </tr>\n",
       "    <tr>\n",
       "      <th>712</th>\n",
       "      <td>10</td>\n",
       "      <td>129</td>\n",
       "      <td>62</td>\n",
       "      <td>36</td>\n",
       "      <td>0</td>\n",
       "      <td>41.2</td>\n",
       "      <td>38</td>\n",
       "    </tr>\n",
       "    <tr>\n",
       "      <th>161</th>\n",
       "      <td>7</td>\n",
       "      <td>102</td>\n",
       "      <td>74</td>\n",
       "      <td>40</td>\n",
       "      <td>105</td>\n",
       "      <td>37.2</td>\n",
       "      <td>45</td>\n",
       "    </tr>\n",
       "    <tr>\n",
       "      <th>509</th>\n",
       "      <td>8</td>\n",
       "      <td>120</td>\n",
       "      <td>78</td>\n",
       "      <td>0</td>\n",
       "      <td>0</td>\n",
       "      <td>25.0</td>\n",
       "      <td>64</td>\n",
       "    </tr>\n",
       "  </tbody>\n",
       "</table>\n",
       "</div>"
      ],
      "text/plain": [
       "     pregnent  glucose  bp  skin  insulin   bmi  age\n",
       "663         9      145  80    46      130  37.9   40\n",
       "712        10      129  62    36        0  41.2   38\n",
       "161         7      102  74    40      105  37.2   45\n",
       "509         8      120  78     0        0  25.0   64"
      ]
     },
     "execution_count": 13,
     "metadata": {},
     "output_type": "execute_result"
    }
   ],
   "source": [
    "X_train.head(4)"
   ]
  },
  {
   "cell_type": "code",
   "execution_count": 14,
   "id": "abe83549",
   "metadata": {},
   "outputs": [
    {
     "data": {
      "text/plain": [
       "LogisticRegression()"
      ]
     },
     "execution_count": 14,
     "metadata": {},
     "output_type": "execute_result"
    }
   ],
   "source": [
    "lr = LogisticRegression()\n",
    "lr.fit(X_train,y_train)"
   ]
  },
  {
   "cell_type": "code",
   "execution_count": 15,
   "id": "8682f025",
   "metadata": {},
   "outputs": [],
   "source": [
    "y_pred = lr.predict(x_test)"
   ]
  },
  {
   "cell_type": "code",
   "execution_count": 17,
   "id": "c9d805bb",
   "metadata": {},
   "outputs": [
    {
     "data": {
      "text/plain": [
       "0.7727272727272727"
      ]
     },
     "execution_count": 17,
     "metadata": {},
     "output_type": "execute_result"
    }
   ],
   "source": [
    "accuracy_score(y_test, y_pred)"
   ]
  },
  {
   "cell_type": "code",
   "execution_count": 33,
   "id": "cc24d7c9",
   "metadata": {},
   "outputs": [
    {
     "data": {
      "image/png": "[encoded data removed]",
      "text/plain": [
       "<Figure size 432x288 with 1 Axes>"
      ]
     },
     "metadata": {
      "needs_background": "light"
     },
     "output_type": "display_data"
    }
   ],
   "source": [
    "cm = confusion_matrix(y_test,y_pred)\n",
    "plt.clf()\n",
    "plt.imshow(cm, interpolation='nearest', cmap=plt.cm.Wistia)\n",
    "class_names = ['Non_Diabetic', 'Diabetic']\n",
    "plt.title(\"Confusion_Matrix - Test Data\")\n",
    "plt.xlabel(\"Actual_label\")\n",
    "plt.ylabel(\"Predicted label\")\n",
    "tick_mark = np.arange(len(class_names))\n",
    "plt.xticks(tick_mark, class_names, rotation=45)\n",
    "plt.yticks(tick_mark, class_names)\n",
    "s = [['TN','FP'], ['FN','TP']]\n",
    "\n",
    "for i in range(2):\n",
    "    for j in range(2):\n",
    "        plt.text(j,i, str(s[i][j]+\" = \"+str(cm[i][j])))\n",
    "        \n",
    "plt.show()       "
   ]
  },
  {
   "cell_type": "code",
   "execution_count": 34,
   "id": "7fae3f1e",
   "metadata": {},
   "outputs": [
    {
     "data": {
      "text/plain": [
       "0.75"
      ]
     },
     "execution_count": 34,
     "metadata": {},
     "output_type": "execute_result"
    }
   ],
   "source": [
    "precision_score(y_test,y_pred)"
   ]
  },
  {
   "cell_type": "code",
   "execution_count": 35,
   "id": "f5260606",
   "metadata": {},
   "outputs": [
    {
     "data": {
      "text/plain": [
       "0.5454545454545454"
      ]
     },
     "execution_count": 35,
     "metadata": {},
     "output_type": "execute_result"
    }
   ],
   "source": [
    "recall_score(y_test,y_pred)"
   ]
  },
  {
   "cell_type": "code",
   "execution_count": 37,
   "id": "f1c06c14",
   "metadata": {},
   "outputs": [
    {
     "data": {
      "text/plain": [
       "0.631578947368421"
      ]
     },
     "execution_count": 37,
     "metadata": {},
     "output_type": "execute_result"
    }
   ],
   "source": [
    "f1_score(y_test,y_pred)"
   ]
  },
  {
   "cell_type": "code",
   "execution_count": 40,
   "id": "1da960ac",
   "metadata": {},
   "outputs": [
    {
     "data": {
      "text/plain": [
       "array([[0.59246419, 0.40753581],\n",
       "       [0.64578513, 0.35421487],\n",
       "       [0.82896274, 0.17103726],\n",
       "       [0.95122023, 0.04877977],\n",
       "       [0.79815348, 0.20184652],\n",
       "       [0.70752122, 0.29247878],\n",
       "       [0.63025617, 0.36974383],\n",
       "       [0.88464905, 0.11535095],\n",
       "       [0.83195048, 0.16804952],\n",
       "       [0.77377574, 0.22622426],\n",
       "       [0.53210172, 0.46789828],\n",
       "       [0.94125174, 0.05874826],\n",
       "       [0.04763335, 0.95236665],\n",
       "       [0.25442108, 0.74557892],\n",
       "       [0.98797735, 0.01202265],\n",
       "       [0.23191766, 0.76808234],\n",
       "       [0.78234445, 0.21765555],\n",
       "       [0.68929818, 0.31070182],\n",
       "       [0.85707471, 0.14292529],\n",
       "       [0.86752529, 0.13247471],\n",
       "       [0.70879698, 0.29120302],\n",
       "       [0.91474374, 0.08525626],\n",
       "       [0.04069463, 0.95930537],\n",
       "       [0.68480782, 0.31519218],\n",
       "       [0.93328978, 0.06671022],\n",
       "       [0.55159502, 0.44840498],\n",
       "       [0.781901  , 0.218099  ],\n",
       "       [0.2643877 , 0.7356123 ],\n",
       "       [0.93432102, 0.06567898],\n",
       "       [0.6173571 , 0.3826429 ],\n",
       "       [0.62504075, 0.37495925],\n",
       "       [0.69224149, 0.30775851],\n",
       "       [0.95487537, 0.04512463],\n",
       "       [0.23975267, 0.76024733],\n",
       "       [0.90090101, 0.09909899],\n",
       "       [0.325199  , 0.674801  ],\n",
       "       [0.92973798, 0.07026202],\n",
       "       [0.84254544, 0.15745456],\n",
       "       [0.89189483, 0.10810517],\n",
       "       [0.31788548, 0.68211452],\n",
       "       [0.81346657, 0.18653343],\n",
       "       [0.91980324, 0.08019676],\n",
       "       [0.96821169, 0.03178831],\n",
       "       [0.80826185, 0.19173815],\n",
       "       [0.94173031, 0.05826969],\n",
       "       [0.97723857, 0.02276143],\n",
       "       [0.19056189, 0.80943811],\n",
       "       [0.13889591, 0.86110409],\n",
       "       [0.93217732, 0.06782268],\n",
       "       [0.84582412, 0.15417588],\n",
       "       [0.99094415, 0.00905585],\n",
       "       [0.86433   , 0.13567   ],\n",
       "       [0.14802969, 0.85197031],\n",
       "       [0.947916  , 0.052084  ],\n",
       "       [0.28874879, 0.71125121],\n",
       "       [0.91434144, 0.08565856],\n",
       "       [0.3503297 , 0.6496703 ],\n",
       "       [0.75252193, 0.24747807],\n",
       "       [0.44662395, 0.55337605],\n",
       "       [0.81059619, 0.18940381],\n",
       "       [0.36528435, 0.63471565],\n",
       "       [0.98715242, 0.01284758],\n",
       "       [0.25999328, 0.74000672],\n",
       "       [0.75205926, 0.24794074],\n",
       "       [0.65188503, 0.34811497],\n",
       "       [0.87931911, 0.12068089],\n",
       "       [0.98852927, 0.01147073],\n",
       "       [0.6562382 , 0.3437618 ],\n",
       "       [0.23303561, 0.76696439],\n",
       "       [0.40878631, 0.59121369],\n",
       "       [0.08476248, 0.91523752],\n",
       "       [0.20944357, 0.79055643],\n",
       "       [0.47582858, 0.52417142],\n",
       "       [0.98398817, 0.01601183],\n",
       "       [0.2843862 , 0.7156138 ],\n",
       "       [0.68445044, 0.31554956],\n",
       "       [0.38469823, 0.61530177],\n",
       "       [0.63964258, 0.36035742],\n",
       "       [0.9120553 , 0.0879447 ],\n",
       "       [0.2929958 , 0.7070042 ],\n",
       "       [0.29872477, 0.70127523],\n",
       "       [0.72726105, 0.27273895],\n",
       "       [0.52209908, 0.47790092],\n",
       "       [0.71129899, 0.28870101],\n",
       "       [0.82198393, 0.17801607],\n",
       "       [0.31684225, 0.68315775],\n",
       "       [0.38738075, 0.61261925],\n",
       "       [0.66447222, 0.33552778],\n",
       "       [0.65226572, 0.34773428],\n",
       "       [0.72237599, 0.27762401],\n",
       "       [0.8701695 , 0.1298305 ],\n",
       "       [0.96531545, 0.03468455],\n",
       "       [0.7752702 , 0.2247298 ],\n",
       "       [0.89267318, 0.10732682],\n",
       "       [0.23909795, 0.76090205],\n",
       "       [0.51702538, 0.48297462],\n",
       "       [0.67663788, 0.32336212],\n",
       "       [0.76426808, 0.23573192],\n",
       "       [0.14605447, 0.85394553],\n",
       "       [0.87397451, 0.12602549],\n",
       "       [0.87031586, 0.12968414],\n",
       "       [0.65415725, 0.34584275],\n",
       "       [0.2624808 , 0.7375192 ],\n",
       "       [0.78431063, 0.21568937],\n",
       "       [0.86861942, 0.13138058],\n",
       "       [0.91630645, 0.08369355],\n",
       "       [0.43938397, 0.56061603],\n",
       "       [0.33331469, 0.66668531],\n",
       "       [0.80707983, 0.19292017],\n",
       "       [0.87482402, 0.12517598],\n",
       "       [0.60819005, 0.39180995],\n",
       "       [0.9468681 , 0.0531319 ],\n",
       "       [0.523383  , 0.476617  ],\n",
       "       [0.82898829, 0.17101171],\n",
       "       [0.98638749, 0.01361251],\n",
       "       [0.92397509, 0.07602491],\n",
       "       [0.86585231, 0.13414769],\n",
       "       [0.59079138, 0.40920862],\n",
       "       [0.7615045 , 0.2384955 ],\n",
       "       [0.70376842, 0.29623158],\n",
       "       [0.84633495, 0.15366505],\n",
       "       [0.09696779, 0.90303221],\n",
       "       [0.68195046, 0.31804954],\n",
       "       [0.76735006, 0.23264994],\n",
       "       [0.83166818, 0.16833182],\n",
       "       [0.83575652, 0.16424348],\n",
       "       [0.81166917, 0.18833083],\n",
       "       [0.67379602, 0.32620398],\n",
       "       [0.40243126, 0.59756874],\n",
       "       [0.74675905, 0.25324095],\n",
       "       [0.05956543, 0.94043457],\n",
       "       [0.96315761, 0.03684239],\n",
       "       [0.67983796, 0.32016204],\n",
       "       [0.61540719, 0.38459281],\n",
       "       [0.89921964, 0.10078036],\n",
       "       [0.78491865, 0.21508135],\n",
       "       [0.8796523 , 0.1203477 ],\n",
       "       [0.36374622, 0.63625378],\n",
       "       [0.87161278, 0.12838722],\n",
       "       [0.74230044, 0.25769956],\n",
       "       [0.08573213, 0.91426787],\n",
       "       [0.8893967 , 0.1106033 ],\n",
       "       [0.79763895, 0.20236105],\n",
       "       [0.13873524, 0.86126476],\n",
       "       [0.32847116, 0.67152884],\n",
       "       [0.50942163, 0.49057837],\n",
       "       [0.95124963, 0.04875037],\n",
       "       [0.92065165, 0.07934835],\n",
       "       [0.87533872, 0.12466128],\n",
       "       [0.85064894, 0.14935106],\n",
       "       [0.67827269, 0.32172731],\n",
       "       [0.02788584, 0.97211416],\n",
       "       [0.93817813, 0.06182187],\n",
       "       [0.77821725, 0.22178275]])"
      ]
     },
     "execution_count": 40,
     "metadata": {},
     "output_type": "execute_result"
    }
   ],
   "source": [
    "lr.predict_proba(x_test)"
   ]
  },
  {
   "cell_type": "code",
   "execution_count": 45,
   "id": "221348b6",
   "metadata": {},
   "outputs": [],
   "source": [
    "y_pred_proba = lr.predict_proba(x_test)[:,1]"
   ]
  },
  {
   "cell_type": "code",
   "execution_count": 46,
   "id": "25e98267",
   "metadata": {},
   "outputs": [
    {
     "data": {
      "text/plain": [
       "array([0.40753581, 0.35421487, 0.17103726, 0.04877977, 0.20184652,\n",
       "       0.29247878, 0.36974383, 0.11535095, 0.16804952, 0.22622426,\n",
       "       0.46789828, 0.05874826, 0.95236665, 0.74557892, 0.01202265,\n",
       "       0.76808234, 0.21765555, 0.31070182, 0.14292529, 0.13247471,\n",
       "       0.29120302, 0.08525626, 0.95930537, 0.31519218, 0.06671022,\n",
       "       0.44840498, 0.218099  , 0.7356123 , 0.06567898, 0.3826429 ,\n",
       "       0.37495925, 0.30775851, 0.04512463, 0.76024733, 0.09909899,\n",
       "       0.674801  , 0.07026202, 0.15745456, 0.10810517, 0.68211452,\n",
       "       0.18653343, 0.08019676, 0.03178831, 0.19173815, 0.05826969,\n",
       "       0.02276143, 0.80943811, 0.86110409, 0.06782268, 0.15417588,\n",
       "       0.00905585, 0.13567   , 0.85197031, 0.052084  , 0.71125121,\n",
       "       0.08565856, 0.6496703 , 0.24747807, 0.55337605, 0.18940381,\n",
       "       0.63471565, 0.01284758, 0.74000672, 0.24794074, 0.34811497,\n",
       "       0.12068089, 0.01147073, 0.3437618 , 0.76696439, 0.59121369,\n",
       "       0.91523752, 0.79055643, 0.52417142, 0.01601183, 0.7156138 ,\n",
       "       0.31554956, 0.61530177, 0.36035742, 0.0879447 , 0.7070042 ,\n",
       "       0.70127523, 0.27273895, 0.47790092, 0.28870101, 0.17801607,\n",
       "       0.68315775, 0.61261925, 0.33552778, 0.34773428, 0.27762401,\n",
       "       0.1298305 , 0.03468455, 0.2247298 , 0.10732682, 0.76090205,\n",
       "       0.48297462, 0.32336212, 0.23573192, 0.85394553, 0.12602549,\n",
       "       0.12968414, 0.34584275, 0.7375192 , 0.21568937, 0.13138058,\n",
       "       0.08369355, 0.56061603, 0.66668531, 0.19292017, 0.12517598,\n",
       "       0.39180995, 0.0531319 , 0.476617  , 0.17101171, 0.01361251,\n",
       "       0.07602491, 0.13414769, 0.40920862, 0.2384955 , 0.29623158,\n",
       "       0.15366505, 0.90303221, 0.31804954, 0.23264994, 0.16833182,\n",
       "       0.16424348, 0.18833083, 0.32620398, 0.59756874, 0.25324095,\n",
       "       0.94043457, 0.03684239, 0.32016204, 0.38459281, 0.10078036,\n",
       "       0.21508135, 0.1203477 , 0.63625378, 0.12838722, 0.25769956,\n",
       "       0.91426787, 0.1106033 , 0.20236105, 0.86126476, 0.67152884,\n",
       "       0.49057837, 0.04875037, 0.07934835, 0.12466128, 0.14935106,\n",
       "       0.32172731, 0.97211416, 0.06182187, 0.22178275])"
      ]
     },
     "execution_count": 46,
     "metadata": {},
     "output_type": "execute_result"
    }
   ],
   "source": [
    "y_pred_proba"
   ]
  },
  {
   "cell_type": "code",
   "execution_count": 47,
   "id": "045e1daa",
   "metadata": {},
   "outputs": [
    {
     "data": {
      "text/plain": [
       "array([0, 0, 0, 0, 0, 0, 0, 0, 0, 0, 0, 0, 1, 1, 0, 1, 0, 0, 0, 0, 0, 0,\n",
       "       1, 0, 0, 0, 0, 1, 0, 0, 0, 0, 0, 1, 0, 1, 0, 0, 0, 1, 0, 0, 0, 0,\n",
       "       0, 0, 1, 1, 0, 0, 0, 0, 1, 0, 1, 0, 1, 0, 1, 0, 1, 0, 1, 0, 0, 0,\n",
       "       0, 0, 1, 1, 1, 1, 1, 0, 1, 0, 1, 0, 0, 1, 1, 0, 0, 0, 0, 1, 1, 0,\n",
       "       0, 0, 0, 0, 0, 0, 1, 0, 0, 0, 1, 0, 0, 0, 1, 0, 0, 0, 1, 1, 0, 0,\n",
       "       0, 0, 0, 0, 0, 0, 0, 0, 0, 0, 0, 1, 0, 0, 0, 0, 0, 0, 1, 0, 1, 0,\n",
       "       0, 0, 0, 0, 0, 1, 0, 0, 1, 0, 0, 1, 1, 0, 0, 0, 0, 0, 0, 1, 0, 0],\n",
       "      dtype=int64)"
      ]
     },
     "execution_count": 47,
     "metadata": {},
     "output_type": "execute_result"
    }
   ],
   "source": [
    "y_pred"
   ]
  },
  {
   "cell_type": "code",
   "execution_count": 49,
   "id": "cf71d031",
   "metadata": {},
   "outputs": [],
   "source": [
    "y_pred_classified = np.where(y_pred_proba>0.3,1,0)"
   ]
  },
  {
   "cell_type": "code",
   "execution_count": 51,
   "id": "b13a0edd",
   "metadata": {},
   "outputs": [
    {
     "data": {
      "text/plain": [
       "array([1, 1, 0, 0, 0, 0, 1, 0, 0, 0, 1, 0, 1, 1, 0, 1, 0, 1, 0, 0, 0, 0,\n",
       "       1, 1, 0, 1, 0, 1, 0, 1, 1, 1, 0, 1, 0, 1, 0, 0, 0, 1, 0, 0, 0, 0,\n",
       "       0, 0, 1, 1, 0, 0, 0, 0, 1, 0, 1, 0, 1, 0, 1, 0, 1, 0, 1, 0, 1, 0,\n",
       "       0, 1, 1, 1, 1, 1, 1, 0, 1, 1, 1, 1, 0, 1, 1, 0, 1, 0, 0, 1, 1, 1,\n",
       "       1, 0, 0, 0, 0, 0, 1, 1, 1, 0, 1, 0, 0, 1, 1, 0, 0, 0, 1, 1, 0, 0,\n",
       "       1, 0, 1, 0, 0, 0, 0, 1, 0, 0, 0, 1, 1, 0, 0, 0, 0, 1, 1, 0, 1, 0,\n",
       "       1, 1, 0, 0, 0, 1, 0, 0, 1, 0, 0, 1, 1, 1, 0, 0, 0, 0, 1, 1, 0, 0])"
      ]
     },
     "execution_count": 51,
     "metadata": {},
     "output_type": "execute_result"
    }
   ],
   "source": [
    "y_pred_classified"
   ]
  },
  {
   "cell_type": "code",
   "execution_count": 53,
   "id": "9d0a8f3d",
   "metadata": {},
   "outputs": [
    {
     "data": {
      "text/plain": [
       "0.6231884057971014"
      ]
     },
     "execution_count": 53,
     "metadata": {},
     "output_type": "execute_result"
    }
   ],
   "source": [
    "precision_score(y_test,y_pred_classified)"
   ]
  },
  {
   "cell_type": "code",
   "execution_count": 54,
   "id": "8d25e2c2",
   "metadata": {},
   "outputs": [
    {
     "data": {
      "text/plain": [
       "0.7818181818181819"
      ]
     },
     "execution_count": 54,
     "metadata": {},
     "output_type": "execute_result"
    }
   ],
   "source": [
    "recall_score(y_test,y_pred_classified)"
   ]
  },
  {
   "cell_type": "code",
   "execution_count": 55,
   "id": "ea74ed56",
   "metadata": {},
   "outputs": [
    {
     "data": {
      "text/plain": [
       "0.6935483870967741"
      ]
     },
     "execution_count": 55,
     "metadata": {},
     "output_type": "execute_result"
    }
   ],
   "source": [
    "f1_score(y_test,y_pred_classified)"
   ]
  },
  {
   "cell_type": "code",
   "execution_count": 63,
   "id": "4281140c",
   "metadata": {},
   "outputs": [
    {
     "data": {
      "image/png": "[encoded data removed]",
      "text/plain": [
       "<Figure size 432x288 with 1 Axes>"
      ]
     },
     "metadata": {
      "needs_background": "light"
     },
     "output_type": "display_data"
    }
   ],
   "source": [
    "fpr,tpr,thresholds = roc_curve(y_test,y_pred_proba)\n",
    "plt.plot(fpr,tpr)\n",
    "plt.xlim([0.0, 1.0])\n",
    "plt.ylim([0.0, 1.0])\n",
    "plt.title('ROC curve for diabetes classifier')\n",
    "plt.xlabel('False Positive Rate (1 - Specificity)')\n",
    "plt.ylabel('True Positive Rate (Sensitivity)')\n",
    "plt.grid(True)"
   ]
  },
  {
   "cell_type": "code",
   "execution_count": null,
   "id": "5bb0b2b3",
   "metadata": {},
   "outputs": [],
   "source": []
  }
 ],
 "metadata": {
  "kernelspec": {
   "display_name": "Python 3 (ipykernel)",
   "language": "python",
   "name": "python3"
  },
  "language_info": {
   "codemirror_mode": {
    "name": "ipython",
    "version": 3
   },
   "file_extension": ".py",
   "mimetype": "text/x-python",
   "name": "python",
   "nbconvert_exporter": "python",
   "pygments_lexer": "ipython3",
   "version": "3.9.12"
  }
 },
 "nbformat": 4,
 "nbformat_minor": 5
}
